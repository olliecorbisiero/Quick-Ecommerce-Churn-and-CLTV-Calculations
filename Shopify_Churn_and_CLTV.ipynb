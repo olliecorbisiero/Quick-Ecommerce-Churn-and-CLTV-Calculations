{
 "cells": [
  {
   "cell_type": "code",
   "execution_count": 3,
   "id": "chicken-cooling",
   "metadata": {},
   "outputs": [],
   "source": [
    "#importing necessary libraries\n",
    "import numpy as np \n",
    "import pandas as pd\n",
    "from datetime import datetime\n",
    "from lifelines import KaplanMeierFitter\n",
    "import matplotlib.pyplot as plt\n",
    "import re"
   ]
  },
  {
   "cell_type": "code",
   "execution_count": 2,
   "id": "greater-polymer",
   "metadata": {},
   "outputs": [],
   "source": [
    "#importing data from Shopify Sales Report csv export\n",
    "shopify_raw = pd.read_csv('sales_2016-01-01_2021-04-30.csv')"
   ]
  },
  {
   "cell_type": "code",
   "execution_count": 13,
   "id": "steady-differential",
   "metadata": {},
   "outputs": [],
   "source": [
    "#shopify columns needed in Sales Report\n",
    "#note api_client_title is in fact sales channel within shopify system\n",
    "'''\n",
    "['order_id', 'order_name',\n",
    "'api_client_title', 'hour', 'customer_id', 'customer_email',\n",
    "'customer_type', 'orders', 'gross_sales', 'discounts', 'returns',\n",
    "'net_sales', 'shipping', 'taxes', 'total_sales',\n",
    "'ordered_item_quantity', 'returned_item_quantity', 'net_quantity',\n",
    "'''"
   ]
  },
  {
   "cell_type": "code",
   "execution_count": 74,
   "id": "american-manitoba",
   "metadata": {},
   "outputs": [],
   "source": [
    "#converting date to datetime & adding second date column\n",
    "shopify_raw['hour'] = pd.to_datetime(shopify_raw.hour)\n",
    "shopify_raw['hour_2']= shopify_raw['hour']"
   ]
  },
  {
   "cell_type": "code",
   "execution_count": 75,
   "id": "fallen-threat",
   "metadata": {},
   "outputs": [],
   "source": [
    "#forming orders table\n",
    "orders = shopify_raw.groupby(['order_id','order_name','customer_id']).agg({'hour':'min','gross_sales':'sum','discounts':'sum','returns':'sum','net_sales':'sum','total_sales':'sum','customer_type':'min','api_client_title':'first'}).reset_index()\n",
    "orders.set_index('order_id',inplace=True)"
   ]
  },
  {
   "cell_type": "code",
   "execution_count": 76,
   "id": "static-details",
   "metadata": {},
   "outputs": [],
   "source": [
    "#forming customers table\n",
    "customers = shopify_raw.groupby(['customer_id','customer_email']).agg({'hour':'min','hour_2':'max','order_id':'count','total_sales':'sum','ordered_item_quantity':'sum','returned_item_quantity':'sum','api_client_title':'first'})\n",
    "customers = customers.reset_index()"
   ]
  },
  {
   "cell_type": "code",
   "execution_count": 77,
   "id": "ideal-helping",
   "metadata": {},
   "outputs": [],
   "source": [
    "#AOV for each customer\n",
    "customers['AOV'] = customers['total_sales']/customers['order_id']"
   ]
  },
  {
   "cell_type": "code",
   "execution_count": 78,
   "id": "appropriate-effort",
   "metadata": {},
   "outputs": [],
   "source": [
    "#orders in the last year, update with desired date\n",
    "desired_date = '2020-04-30 00:00:00'\n",
    "orders_last_year = orders[orders['hour'] > desired_date]\n",
    "orders_last_year = orders_last_year.reset_index()"
   ]
  },
  {
   "cell_type": "code",
   "execution_count": 79,
   "id": "indian-livestock",
   "metadata": {},
   "outputs": [],
   "source": [
    "#AOV & Freq for all orders in the last year\n",
    "aov = orders_last_year['total_sales'].sum()/orders_last_year['order_id'].nunique()\n",
    "freq = orders_last_year['order_id'].nunique()/orders_last_year['customer_id'].nunique()"
   ]
  },
  {
   "cell_type": "code",
   "execution_count": 80,
   "id": "southern-montana",
   "metadata": {},
   "outputs": [],
   "source": [
    "#Bringing it together to get customer value\n",
    "customer_value_last_year = freq * aov"
   ]
  },
  {
   "cell_type": "code",
   "execution_count": 81,
   "id": "binding-fields",
   "metadata": {},
   "outputs": [],
   "source": [
    "#survival analysis to get retention rate, let's prep the data\n",
    "#we need 3 things: \n",
    "#1) occurence of an event (churn)\n",
    "#2) field that represents passage of time (tenure) \n",
    "#3) a field to group customers by (here we are going to do for store as a whole\n",
    "#but we could compare different marketing or sales channels for example)\n",
    "#note hour_2 denotes date of last order\n",
    "\n",
    "customers=customers.reset_index()\n",
    "customers['tenure'] = customers['hour_2']-customers['hour']\n",
    "customers['tenure'] = customers['tenure'].dt.days\n",
    "customers['today'] = datetime.now()\n",
    "customers['days_since_last_order'] = (customers['today'] - customers['hour_2']).dt.days\n",
    "customers['group'] = 'company_customer'\n",
    "#note period defining churn will depend on business in question\n",
    "customers['churn?'] = customers['days_since_last_order'] >= 260\n"
   ]
  },
  {
   "cell_type": "code",
   "execution_count": 82,
   "id": "handed-complexity",
   "metadata": {},
   "outputs": [],
   "source": [
    "#defining survival function\n",
    "def survival(data,group_field, time_field, event_field):\n",
    "    model = KaplanMeierFitter()\n",
    "    results = []\n",
    "    \n",
    "    for i in data[group_field].unique():\n",
    "        group = data[data[group_field]==i]\n",
    "        T = group[time_field]\n",
    "        E = group[event_field]\n",
    "        model.fit(T, E, label=str(i))\n",
    "        results.append(model.survival_function_)\n",
    "    \n",
    "    survival = pd.concat(results, axis=1)\n",
    "    return survival"
   ]
  },
  {
   "cell_type": "code",
   "execution_count": 84,
   "id": "accepted-grammar",
   "metadata": {},
   "outputs": [],
   "source": [
    "#applying it to different sales \n",
    "rates = survival(customers[customers['hour'] > desired_date], 'group', 'tenure', 'churn?')"
   ]
  },
  {
   "cell_type": "code",
   "execution_count": null,
   "id": "fitting-ensemble",
   "metadata": {},
   "outputs": [],
   "source": [
    "#graphing it\n",
    "plt.plot(rates)\n",
    "plt.legend(labels = customers['group'].value_counts().index,loc=\"upper right\")\n",
    "plt.ylabel('Retention Rate')\n",
    "plt.xlabel('Tenure')\n",
    "plt.show()"
   ]
  },
  {
   "cell_type": "code",
   "execution_count": 103,
   "id": "dense-cleaning",
   "metadata": {},
   "outputs": [],
   "source": [
    "#store 1 year retention rate as variable\n",
    "retention_rate = rates.loc[365][0]"
   ]
  },
  {
   "cell_type": "code",
   "execution_count": 108,
   "id": "growing-lightweight",
   "metadata": {},
   "outputs": [],
   "source": [
    "#churn is 1-retention rate\n",
    "churn_rate = 1-retention_rate"
   ]
  },
  {
   "cell_type": "code",
   "execution_count": 109,
   "id": "prescribed-brush",
   "metadata": {},
   "outputs": [],
   "source": [
    "#lifespan is 1/churn rate in the period it is measured\n",
    "customer_lifespan = 1/churn_rate"
   ]
  },
  {
   "cell_type": "code",
   "execution_count": 110,
   "id": "several-sunrise",
   "metadata": {},
   "outputs": [],
   "source": [
    "#CLTV is customer value * lifespan\n",
    "cltv = customer_value_last_year*customer_lifespan"
   ]
  },
  {
   "cell_type": "code",
   "execution_count": 112,
   "id": "assisted-vanilla",
   "metadata": {},
   "outputs": [],
   "source": [
    "#you can repeat survival analysis to compare retention across customers with different characteristics\n"
   ]
  },
  {
   "cell_type": "code",
   "execution_count": null,
   "id": "imported-suicide",
   "metadata": {},
   "outputs": [],
   "source": []
  }
 ],
 "metadata": {
  "kernelspec": {
   "display_name": "Python 3",
   "language": "python",
   "name": "python3"
  },
  "language_info": {
   "codemirror_mode": {
    "name": "ipython",
    "version": 3
   },
   "file_extension": ".py",
   "mimetype": "text/x-python",
   "name": "python",
   "nbconvert_exporter": "python",
   "pygments_lexer": "ipython3",
   "version": "3.8.5"
  }
 },
 "nbformat": 4,
 "nbformat_minor": 5
}
